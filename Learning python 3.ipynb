{
 "cells": [
  {
   "cell_type": "markdown",
   "id": "164c288d-0e42-4f50-ac27-70568bc427e3",
   "metadata": {},
   "source": [
    "# Loops"
   ]
  },
  {
   "cell_type": "markdown",
   "id": "422b74e0-b987-473d-b5ec-0cf52f9fd872",
   "metadata": {},
   "source": [
    "Loops are used in programming to repeat a block of code multiple times. They allow for efficient execution of repetitive tasks. Python primarily uses two types of loops: while loops and for loops."
   ]
  },
  {
   "cell_type": "code",
   "execution_count": 4,
   "id": "425a792d-6a1c-43ff-bff1-3a47e595f77a",
   "metadata": {},
   "outputs": [
    {
     "name": "stdout",
     "output_type": "stream",
     "text": [
      "0\n",
      "1\n",
      "2\n",
      "3\n",
      "4\n"
     ]
    }
   ],
   "source": [
    "count = 0\n",
    "while count < 5:\n",
    "    print(count)\n",
    "    count += 1"
   ]
  },
  {
   "cell_type": "code",
   "execution_count": 5,
   "id": "c6c1da7c-7809-418f-aeac-3f0bcd83d34e",
   "metadata": {},
   "outputs": [
    {
     "name": "stdout",
     "output_type": "stream",
     "text": [
      "I like apple\n",
      "I like banana\n",
      "I like cherry\n"
     ]
    }
   ],
   "source": [
    "fruits = [\"apple\", \"banana\", \"cherry\"]\n",
    "for fruit in fruits:\n",
    "    print(f\"I like {fruit}\")\n"
   ]
  },
  {
   "cell_type": "code",
   "execution_count": 1,
   "id": "5a4f365c-1e8e-4114-a5a7-ed35e240af29",
   "metadata": {},
   "outputs": [
    {
     "name": "stdout",
     "output_type": "stream",
     "text": [
      "You are a child\n",
      "You are unborn\n"
     ]
    }
   ],
   "source": [
    "a = 0\n",
    "\n",
    "if a <= 20:\n",
    "    print(\"You are a child\")\n",
    "if a == 0:\n",
    "    print(\"You are unborn\")\n",
    "else:\n",
    "    print(\"You are an adult\")\n",
    "    "
   ]
  },
  {
   "cell_type": "markdown",
   "id": "79815450-6148-4e79-a94b-5944be009c25",
   "metadata": {},
   "source": [
    "Counting up or down with while loops/for loops while including if else logic:"
   ]
  },
  {
   "cell_type": "code",
   "execution_count": 2,
   "id": "c398704d-9fa8-4d69-aae7-5a8641998eb3",
   "metadata": {},
   "outputs": [
    {
     "name": "stdout",
     "output_type": "stream",
     "text": [
      "1 is odd\n",
      "4 is even\n",
      "7 is odd\n",
      "10 is even\n"
     ]
    }
   ],
   "source": [
    "#Counting Up with a for Loop and if-else Logic\n",
    "for i in range(1, 11, 3):  # Count from 1 to 10; 3 is interval\n",
    "    if i % 2 == 0:      # Check if the number is even\n",
    "        print(f\"{i} is even\")\n",
    "    else:               # Otherwise, it's odd\n",
    "        print(f\"{i} is odd\")"
   ]
  },
  {
   "cell_type": "code",
   "execution_count": 3,
   "id": "28077a1f-7a15-4e37-b450-0322e8dc6f56",
   "metadata": {},
   "outputs": [
    {
     "name": "stdout",
     "output_type": "stream",
     "text": [
      "10 is even\n",
      "8 is even\n",
      "6 is even\n",
      "4 is even\n",
      "2 is even\n"
     ]
    }
   ],
   "source": [
    "#Counting Up with a for Loop and if-else Logic\n",
    "for i in range(10, 0, -2):  # Count from 1 to 10; -2 is interval\n",
    "    if i % 2 == 0:      # Check if the number is even\n",
    "        print(f\"{i} is even\")\n",
    "    else:               # Otherwise, it's odd\n",
    "        print(f\"{i} is odd\")"
   ]
  },
  {
   "cell_type": "code",
   "execution_count": null,
   "id": "503bf5b1-1ad9-4b86-a1a0-69b90f239dc4",
   "metadata": {},
   "outputs": [],
   "source": []
  }
 ],
 "metadata": {
  "kernelspec": {
   "display_name": "Python 3 (ipykernel)",
   "language": "python",
   "name": "python3"
  },
  "language_info": {
   "codemirror_mode": {
    "name": "ipython",
    "version": 3
   },
   "file_extension": ".py",
   "mimetype": "text/x-python",
   "name": "python",
   "nbconvert_exporter": "python",
   "pygments_lexer": "ipython3",
   "version": "3.12.6"
  }
 },
 "nbformat": 4,
 "nbformat_minor": 5
}
