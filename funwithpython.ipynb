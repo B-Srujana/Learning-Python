{
 "cells": [
  {
   "cell_type": "markdown",
   "id": "da65c6ed-a532-41a3-b169-1e186a083f0d",
   "metadata": {},
   "source": [
    "# My learning path - Python\n",
    "\n",
    "Exploring python has been incredibly fun! I used to feel intimidated by it, but I realized that 'if something feels scary, it means you're not learning it the right way.' With this mindset, I started my Python journey a few months back, and I’m documenting it to help anyone who shares that initial fear, showing them that learning Python can be approachable and enjoyable."
   ]
  },
  {
   "cell_type": "markdown",
   "id": "f02d2eda-bb69-489c-b327-3b4703b94c7e",
   "metadata": {},
   "source": [
    "Writing a program in Python is like expressing thoughts in English. Just like you use words to communicate ideas, in programming, you use code to communicate logic. "
   ]
  },
  {
   "cell_type": "code",
   "execution_count": 1,
   "id": "1d0e3603-2345-40fb-8c29-e78545975b68",
   "metadata": {},
   "outputs": [
    {
     "data": {
      "text/plain": [
       "True"
      ]
     },
     "execution_count": 1,
     "metadata": {},
     "output_type": "execute_result"
    }
   ],
   "source": [
    "#For example, in English, you might say '1 is 1,' but in programming, this needs to be more precise, so we write it as 1 == 1.\n",
    "#1 is 1\n",
    "1 == 1"
   ]
  },
  {
   "cell_type": "markdown",
   "id": "3bab683c-c79e-4bcb-a34f-1971f95d61e5",
   "metadata": {},
   "source": [
    "The == symbol checks if two values are equal, just as the words 'is' or 'equals' connect ideas in a sentence."
   ]
  },
  {
   "cell_type": "markdown",
   "id": "199b15af-550b-4459-ab3e-932ecd3db014",
   "metadata": {},
   "source": [
    "Both language and programming require structure and clarity. When you write, you follow grammar rules to make sure you're understood. In the same way, when you write code, you follow syntax rules so that the computer can execute your instructions correctly. In both cases, it's all about expressing yourself in a way that gets the intended message across. So, let's check out the other numeric operations."
   ]
  },
  {
   "cell_type": "markdown",
   "id": "336f3fce-9fc3-4187-9896-d18536c86fc1",
   "metadata": {},
   "source": [
    "Let's explore simple arithematic operations!"
   ]
  },
  {
   "cell_type": "code",
   "execution_count": 9,
   "id": "a5f364ef-f80e-4f9e-b96f-1fcaaf83e0ee",
   "metadata": {},
   "outputs": [
    {
     "name": "stdout",
     "output_type": "stream",
     "text": [
      "4\n"
     ]
    }
   ],
   "source": [
    "#Addition\n",
    "a = 1\n",
    "b = 3\n",
    "\n",
    "print(a+b)"
   ]
  },
  {
   "cell_type": "code",
   "execution_count": 10,
   "id": "e78cf0b8-4129-4617-bcf5-5066ee9babc3",
   "metadata": {},
   "outputs": [
    {
     "name": "stdin",
     "output_type": "stream",
     "text": [
      "Enter the value of 'a' 90\n",
      "Enter the value of 'b' 90\n"
     ]
    },
    {
     "name": "stdout",
     "output_type": "stream",
     "text": [
      "The result is:0\n"
     ]
    }
   ],
   "source": [
    "\"\"\"Subtraction\n",
    "Instead of directly subtracting, let us assign values\"\"\"\n",
    "\n",
    "a = int(input(\"Enter the value of 'a'\"))\n",
    "b = int(input(\"Enter the value of 'b'\"))\n",
    "\n",
    "print(f\"The result is:{a-b}\")"
   ]
  },
  {
   "cell_type": "code",
   "execution_count": 28,
   "id": "4b3af4a8-fca3-4c21-8961-2fa7286379ff",
   "metadata": {},
   "outputs": [
    {
     "name": "stdin",
     "output_type": "stream",
     "text": [
      "Enter the value of 'a':  9\n"
     ]
    },
    {
     "name": "stdout",
     "output_type": "stream",
     "text": [
      "Result of multiplying 'a' and 'a-1': 72\n"
     ]
    }
   ],
   "source": [
    "\"\"\"Multiplication\n",
    "Write a program that multiplies two numbers, 'a' and 'a - 1'; where a != 0 and a*(a-1) does not result in a negative number.\"\"\"\n",
    "\n",
    "def multiply(a):\n",
    "    if a <= 0:\n",
    "        return \"Please give a valid number\"\n",
    "    if a > 1:\n",
    "        return a * (a - 1)\n",
    "    return \"Value of a needs to be greater than 1\"\n",
    "\n",
    "# Get user input\n",
    "a = int(input(\"Enter the value of 'a': \"))\n",
    "result = multiply(a)  # Store the result of the function in a variable\n",
    "print(\"Result of multiplying 'a' and 'a-1':\", result)  # Print the result"
   ]
  },
  {
   "cell_type": "code",
   "execution_count": 31,
   "id": "bd1487f6-e560-4e0a-9d1d-cfd5d660f3c9",
   "metadata": {},
   "outputs": [
    {
     "name": "stdin",
     "output_type": "stream",
     "text": [
      "Enter the numerator: 80\n",
      "Enter the denominator: 7\n"
     ]
    },
    {
     "name": "stdout",
     "output_type": "stream",
     "text": [
      "The results are: 11.428571428571429\n"
     ]
    }
   ],
   "source": [
    "\"\"\"Division\n",
    "Write a Python program that takes two numbers as input from the user and divides the first number by the second number.\n",
    "Make sure to handle the case where the second number is zero by displaying an appropriate message instead of performing the division.\"\"\"\n",
    "\n",
    "def divide(a, b):\n",
    "    if b == 0:\n",
    "        return \"Division by 0 is not allowed. Give non-zero divisor\"\n",
    "    else:\n",
    "        return a/b\n",
    "#Float() is a method that returns a floating-point number for a provided number or string.\n",
    "a = float (input(\"Enter the numerator:\"))\n",
    "b = float (input(\"Enter the denominator:\"))\n",
    "\n",
    "# Perform division and display the result\n",
    "result = divide(a, b)\n",
    "print(\"The results are:\", result)\n",
    "    \n",
    "\n"
   ]
  },
  {
   "cell_type": "markdown",
   "id": "1a56f783-17d4-4b6d-a966-b8a7b13bde93",
   "metadata": {},
   "source": [
    "There are other arithematic operations. For now, let's move to the next topic.\n",
    "I just added a quick list:"
   ]
  },
  {
   "cell_type": "code",
   "execution_count": 27,
   "id": "0f7c454c-edd5-43ed-a03b-095c66b7769f",
   "metadata": {},
   "outputs": [
    {
     "data": {
      "text/plain": [
       "'fuffaby'"
      ]
     },
     "execution_count": 27,
     "metadata": {},
     "output_type": "execute_result"
    }
   ],
   "source": [
    "'lullaby'.replace('l','f')"
   ]
  },
  {
   "cell_type": "code",
   "execution_count": 45,
   "id": "9bd8dabe-3d18-473a-997b-9dc68a87858c",
   "metadata": {},
   "outputs": [
    {
     "name": "stdout",
     "output_type": "stream",
     "text": [
      "1 is an integer \n",
      " 2.0 is a decimal\n"
     ]
    }
   ],
   "source": [
    "a = 1; b = 2.0; c = 'HelloWorld'\n",
    "print(f\"{a} is an integer \\n {b} is a decimal\")"
   ]
  },
  {
   "cell_type": "code",
   "execution_count": 87,
   "id": "a28d22aa-134c-4966-ba5a-550e0a2b44ca",
   "metadata": {},
   "outputs": [
    {
     "name": "stdout",
     "output_type": "stream",
     "text": [
      "['yellow', 'green', 'red', 'black']\n"
     ]
    }
   ],
   "source": [
    "#Counting starts from 0\n",
    "colors = ['yellow', 'green', 'red', 'black']\n",
    "print(f\"{colors}\")"
   ]
  },
  {
   "cell_type": "code",
   "execution_count": 59,
   "id": "7a19e9fd-aed0-4e39-9307-7616f204efdd",
   "metadata": {},
   "outputs": [
    {
     "data": {
      "text/plain": [
       "list"
      ]
     },
     "execution_count": 59,
     "metadata": {},
     "output_type": "execute_result"
    }
   ],
   "source": [
    "type(colors)"
   ]
  },
  {
   "cell_type": "code",
   "execution_count": 64,
   "id": "048f684e-8fb7-41ad-893f-a5da16a36a61",
   "metadata": {},
   "outputs": [
    {
     "data": {
      "text/plain": [
       "'red'"
      ]
     },
     "execution_count": 64,
     "metadata": {},
     "output_type": "execute_result"
    }
   ],
   "source": [
    "colors[-2]"
   ]
  },
  {
   "cell_type": "code",
   "execution_count": 66,
   "id": "9d35157c-6ea7-4416-83f3-531eb8de718e",
   "metadata": {},
   "outputs": [
    {
     "data": {
      "text/plain": [
       "['yellow', 'green', 'red']"
      ]
     },
     "execution_count": 66,
     "metadata": {},
     "output_type": "execute_result"
    }
   ],
   "source": [
    "colors[0:3]"
   ]
  },
  {
   "cell_type": "raw",
   "id": "3c2f41e0-1686-4e55-9812-10c73d69c41d",
   "metadata": {},
   "source": [
    "colors.sort()"
   ]
  },
  {
   "cell_type": "code",
   "execution_count": 74,
   "id": "20eb20db-3f2f-44ab-b05c-1edf84ef6a43",
   "metadata": {},
   "outputs": [
    {
     "name": "stdout",
     "output_type": "stream",
     "text": [
      "1HelloWorld\n"
     ]
    }
   ],
   "source": [
    "print(str(a)+c)"
   ]
  },
  {
   "cell_type": "code",
   "execution_count": 33,
   "id": "09ebfb43-e409-42ad-8307-5706bf287127",
   "metadata": {},
   "outputs": [
    {
     "name": "stdout",
     "output_type": "stream",
     "text": [
      "[2, 4, 6, 8]\n"
     ]
    }
   ],
   "source": [
    "d = list(range(2,10,2))\n",
    "print(d)"
   ]
  },
  {
   "cell_type": "markdown",
   "id": "6b1b4a74-28e2-4343-8cf4-c6722f731e36",
   "metadata": {},
   "source": [
    "## Data types"
   ]
  },
  {
   "cell_type": "markdown",
   "id": "3f7a3dac-381a-4290-b217-4d3e8bc34756",
   "metadata": {},
   "source": [
    "1. Lists: A list refers to a data structure in Python that is an ordered sequence of elements and it is mutable (liable to change) in nature."
   ]
  },
  {
   "cell_type": "code",
   "execution_count": 35,
   "id": "4f3af084-94fd-414b-bed2-336bb747f89d",
   "metadata": {},
   "outputs": [
    {
     "name": "stdout",
     "output_type": "stream",
     "text": [
      "1\n"
     ]
    }
   ],
   "source": [
    "my_list = [9, 7, 1, 5, 3]\n",
    "print(my_list[2])  # Output: 3 (accessing the element at index 2)\n"
   ]
  },
  {
   "cell_type": "code",
   "execution_count": 40,
   "id": "66eeb2b6-13cb-4e4a-b7a9-5707a17f11c4",
   "metadata": {},
   "outputs": [
    {
     "name": "stdout",
     "output_type": "stream",
     "text": [
      "[9, 0, 5, 9, 0, 9, 0, 5, 7]\n"
     ]
    }
   ],
   "source": [
    "\"\"\"Nested list and list comprehension\n",
    "It is list of lists, where each element is itself a list.\"\"\"\n",
    "nested_list = [[9, 0, 5], [9, 0], [9, 0, 5, 7]] #There are three sublists\n",
    "\n",
    "\"\"\"Flattened list is a list comprehension that flattens a nested list into a single list.\n",
    "It involves looping through a list of lists and extracting individual elements from each sublist.\"\"\"\n",
    "\n",
    "flattened_list = [item for sublist in nested_list for item in sublist]\n",
    "print(flattened_list)\n"
   ]
  },
  {
   "cell_type": "markdown",
   "id": "16dd49f5-e52a-4337-9d24-1342a2a371fd",
   "metadata": {},
   "source": [
    "2. Dictionaries: They are mutable data structures that allow you to store key-value pairs."
   ]
  },
  {
   "cell_type": "code",
   "execution_count": 41,
   "id": "6a525c1f-519d-49b8-b80c-3ec729c44fa7",
   "metadata": {},
   "outputs": [
    {
     "name": "stdout",
     "output_type": "stream",
     "text": [
      "John\n",
      "{'name': 'John', 'age': 30, 'city': 'New York', 'job': 'Engineer'}\n"
     ]
    }
   ],
   "source": [
    "person = {'name': 'John', 'age': 30, 'city': 'New York'}\n",
    "print(person['name'])  # Output: John\n",
    "\n",
    "person['job'] = 'Engineer'\n",
    "print(person)  # Output: {'name': 'John', 'age': 30, 'city': 'New York', 'job': 'Engineer'}\n"
   ]
  },
  {
   "cell_type": "code",
   "execution_count": 45,
   "id": "4b0f8669-f88b-4112-bbb8-9f4e5c137991",
   "metadata": {},
   "outputs": [
    {
     "name": "stdout",
     "output_type": "stream",
     "text": [
      "John: Manager: 30\n",
      "Bob: Designer: 35\n"
     ]
    }
   ],
   "source": [
    "employees = {\n",
    "    'John': {'age': 30, 'position': 'Manager', 'salary': 50000},\n",
    "    'Alice': {'age': 25, 'position': 'Developer', 'salary': 45000},\n",
    "    'Bob': {'age': 35, 'position': 'Designer', 'salary': 48000}\n",
    "}\n",
    "#Print the info of all the employees earning greater than 46000\n",
    "for name, info in employees.items():\n",
    "    if info['salary'] > 46000:\n",
    "        print(f\"{name}: {info['position']}: {info['age']}\")"
   ]
  },
  {
   "cell_type": "markdown",
   "id": "9d7cedd6-fad9-4c50-b2fc-738e9edef78b",
   "metadata": {},
   "source": [
    "3. Tuple: A tuple is a data structure that is an immutable, or unchangeable."
   ]
  },
  {
   "cell_type": "code",
   "execution_count": 49,
   "id": "123e6fba-c595-4373-a808-020c1878f947",
   "metadata": {},
   "outputs": [
    {
     "name": "stdout",
     "output_type": "stream",
     "text": [
      "X: 10, Y: 20\n"
     ]
    }
   ],
   "source": [
    "coordinates = (10, 20)\n",
    "x, y = coordinates\n",
    "print(f\"X: {x}, Y: {y}\")\n",
    "#A formatted string literal or f-string is a string literal that is prefixed with f or F .\n",
    "#These strings may contain replacement fields, which are expressions delimited by curly braces {}\n"
   ]
  },
  {
   "cell_type": "code",
   "execution_count": 53,
   "id": "ce2a1722-0cb3-45cf-aa0b-0e5d21c9f794",
   "metadata": {},
   "outputs": [
    {
     "name": "stdout",
     "output_type": "stream",
     "text": [
      "Min: 1, Max: 9, Avg: 4.57\n"
     ]
    }
   ],
   "source": [
    "def get_stats(numbers): #def is short for “define”. It's a keyword that you need to define a function\n",
    "#The len() function is built-in function that returns the number of items of an object such as a list, string, tuple, dictionary, or other collections.\n",
    "    return (min(numbers), max(numbers), sum(numbers) / len(numbers))\n",
    "\n",
    "data = [1, 5, 3, 8, 2, 9, 4]\n",
    "minimum, maximum, average = get_stats(data)\n",
    "#The get_stats function is a custom-defined function in Python used to calculate and return basic statistics (minimum, maximum, and average) from a list of numbers.\n",
    "\n",
    "print(f\"Min: {minimum}, Max: {maximum}, Avg: {average:.2f}\")\n",
    "#2f is a format specifier"
   ]
  },
  {
   "cell_type": "markdown",
   "id": "844993d4-5678-49ff-ae25-9f9086bd0396",
   "metadata": {},
   "source": [
    "4. Sets: Sets are unordered collections of unique elements."
   ]
  },
  {
   "cell_type": "code",
   "execution_count": 54,
   "id": "5a7716cd-dda4-4c08-97d1-e428d9d761fb",
   "metadata": {},
   "outputs": [
    {
     "name": "stdout",
     "output_type": "stream",
     "text": [
      "{'Strawberry', 'Peach', 'Apricot', 'Fig'}\n"
     ]
    }
   ],
   "source": [
    "fruits = {'Fig', 'Apricot', 'Strawberry'}\n",
    "fruits.add('Peach')\n",
    "fruits.add('Apricot')  # This won't add a duplicate\n",
    "print(fruits)"
   ]
  },
  {
   "cell_type": "code",
   "execution_count": 58,
   "id": "6c2d597f-af1e-4cd8-9b09-675b4a270f37",
   "metadata": {},
   "outputs": [
    {
     "name": "stdout",
     "output_type": "stream",
     "text": [
      "Number of unique letters: 14\n",
      "Missing letters: {'z', 'c', 'p', 'j', 'd', 'n', 'f', 'v', 'q', 'l', 'w', 'x'}\n"
     ]
    }
   ],
   "source": [
    "#Program that takes a sentence as input, counts the number of unique letters (ignoring case and spaces), and identifies any letters of the English alphabet that are missing from the sentence.\n",
    "text = \"Bitty Bought some Bitter Butter to make better Butter\"\n",
    "unique_chars = set(text.lower()) - set(' ') #The entire string - lowercase & into a set of characters\n",
    "#It also removes duplicate characters\n",
    "print(f\"Number of unique letters: {len(unique_chars)}\")\n",
    "#This calculates the number of unique characters present in the unique_chars set.\n",
    "print(f\"Missing letters: {set('abcdefghijklmnopqrstuvwxyz') - unique_chars}\")"
   ]
  },
  {
   "cell_type": "markdown",
   "id": "3aa8351c-3624-4e95-aeaf-298a0381c409",
   "metadata": {},
   "source": [
    "## Control Flow and Logic in Python\n",
    "\n",
    "We have already used 'if' and 'else' before but let's explore control flow structures in Python, including if-else statements, loops with logical operations.\n",
    "\n",
    "1. If-Else Statements: If-else statements allow for conditional execution of code.\n"
   ]
  },
  {
   "cell_type": "code",
   "execution_count": 60,
   "id": "be4f6111-7ccb-4c5e-a1c4-0f998da97e62",
   "metadata": {},
   "outputs": [
    {
     "name": "stdout",
     "output_type": "stream",
     "text": [
      "You are an adult.\n"
     ]
    }
   ],
   "source": [
    "age = 20\n",
    "\n",
    "if age >= 18:\n",
    "    print(\"You are an adult.\")\n",
    "else:\n",
    "    print(\"You are a minor.\")\n"
   ]
  },
  {
   "cell_type": "markdown",
   "id": "e9bab614-8c32-4442-9cc0-21daccd0a4db",
   "metadata": {},
   "source": [
    "2. Loops: There are two main types of loops: for loops and while loops."
   ]
  },
  {
   "cell_type": "code",
   "execution_count": 62,
   "id": "f02e6f1e-ebe8-4944-b2c6-022742da4563",
   "metadata": {},
   "outputs": [
    {
     "name": "stdout",
     "output_type": "stream",
     "text": [
      "I like apple\n",
      "I like banana\n",
      "I like cherry\n"
     ]
    }
   ],
   "source": [
    "#using 'for' loop\n",
    "fruits = ['apple', 'banana', 'cherry']\n",
    "\n",
    "for fruit in fruits:\n",
    "    print(f\"I like {fruit}\")"
   ]
  },
  {
   "cell_type": "code",
   "execution_count": 63,
   "id": "52f66013-1b05-46ce-9489-beeca9a4b2d7",
   "metadata": {},
   "outputs": [
    {
     "name": "stdout",
     "output_type": "stream",
     "text": [
      "Count is: 0\n",
      "Count is: 1\n",
      "Count is: 2\n",
      "Count is: 3\n",
      "Count is: 4\n"
     ]
    }
   ],
   "source": [
    "#using 'while' loop\n",
    "count = 0\n",
    "\n",
    "while count < 5:\n",
    "    print(f\"Count is: {count}\")\n",
    "    count += 1\n"
   ]
  },
  {
   "cell_type": "code",
   "execution_count": 72,
   "id": "65146ceb-f905-48c4-8326-26a61b2bae7b",
   "metadata": {},
   "outputs": [
    {
     "name": "stdout",
     "output_type": "stream",
     "text": [
      "1 x 1 = 1\n",
      "1 x 2 = 2\n",
      "1 x 3 = 3\n",
      "---\n",
      "2 x 1 = 2\n",
      "2 x 2 = 4\n",
      "2 x 3 = 6\n",
      "---\n"
     ]
    }
   ],
   "source": [
    "#Using Nested Loops\n",
    "\n",
    "for i in range(1, 3): #This line initializes a for loop that will iterate over a range of numbers.\n",
    "    for j in range(1, 4):\n",
    "        print(f\"{i} x {j} = {i*j}\")\n",
    "    print(\"---\")\n"
   ]
  },
  {
   "cell_type": "markdown",
   "id": "e6411691-a1c2-4928-b1f0-2de54d4de724",
   "metadata": {},
   "source": [
    "3. Logical Operations - often used in conjunction with control flow structures."
   ]
  },
  {
   "cell_type": "code",
   "execution_count": 73,
   "id": "3b4424d8-606d-4e87-9497-5195d76229e2",
   "metadata": {},
   "outputs": [
    {
     "name": "stdout",
     "output_type": "stream",
     "text": [
      "x < y and x > 0: True\n",
      "x > y or y > 0: True\n",
      "not (x == y): True\n"
     ]
    }
   ],
   "source": [
    "x = 5\n",
    "y = 10\n",
    "\n",
    "print(f\"x < y and x > 0: {x < y and x > 0}\")\n",
    "print(f\"x > y or y > 0: {x > y or y > 0}\")\n",
    "print(f\"not (x == y): {not (x == y)}\")"
   ]
  },
  {
   "cell_type": "markdown",
   "id": "06176ecc-2292-48fd-aefb-67b8a4c28261",
   "metadata": {},
   "source": [
    "4. Break and Continue Statements: Provides additional control within loops."
   ]
  },
  {
   "cell_type": "code",
   "execution_count": 77,
   "id": "91961986-fad2-4dc8-a1bd-b3cafabea1d0",
   "metadata": {},
   "outputs": [
    {
     "name": "stdout",
     "output_type": "stream",
     "text": [
      "1\n",
      "2\n",
      "3\n",
      "4\n",
      "Loop ended\n"
     ]
    }
   ],
   "source": [
    "for i in range(1, 11):\n",
    "    if i == 5:\n",
    "        break\n",
    "    print(i)\n",
    "print(\"Loop ended\")\n"
   ]
  },
  {
   "cell_type": "markdown",
   "id": "a3cb3612-2e74-4978-9344-e47f5aabc286",
   "metadata": {},
   "source": [
    "## Functions and Recursion"
   ]
  },
  {
   "cell_type": "markdown",
   "id": "7d7ae40b-bf2f-4e0f-b634-d36d6c08d018",
   "metadata": {},
   "source": [
    "1. Basic Functions: Functions are reusable blocks of code that perform a specific task."
   ]
  },
  {
   "cell_type": "code",
   "execution_count": 79,
   "id": "ddd5deb7-4e0f-4ffd-8948-6d1c4a0c3180",
   "metadata": {},
   "outputs": [
    {
     "name": "stdout",
     "output_type": "stream",
     "text": [
      "Hello, Bob!\n",
      "Hello, Dylan!\n"
     ]
    }
   ],
   "source": [
    "def greet(name):\n",
    "    return f\"Hello, {name}!\"\n",
    "\n",
    "# Using the function\n",
    "print(greet(\"Bob\"))\n",
    "print(greet(\"Dylan\"))"
   ]
  },
  {
   "cell_type": "markdown",
   "id": "750ab214-379d-4a76-9e6d-addaec415931",
   "metadata": {},
   "source": [
    "2. Functions with Default Arguments"
   ]
  },
  {
   "cell_type": "code",
   "execution_count": 80,
   "id": "11023a96-0f79-43ec-ad68-fa3b2c8c8ca9",
   "metadata": {},
   "outputs": [
    {
     "name": "stdout",
     "output_type": "stream",
     "text": [
      "2^3 = 8\n",
      "5^2 = 25\n"
     ]
    }
   ],
   "source": [
    "def power(base, exponent=2):\n",
    "    return base ** exponent\n",
    "\n",
    "# Using the function\n",
    "print(f\"2^3 = {power(2, 3)}\")\n",
    "print(f\"5^2 = {power(5)}\")  # Using default exponent"
   ]
  },
  {
   "cell_type": "markdown",
   "id": "e8d15d94-c9a0-49c5-86ae-3eec911c00d4",
   "metadata": {},
   "source": [
    "3. Lambda Functions: They are small anonymous functions."
   ]
  },
  {
   "cell_type": "code",
   "execution_count": 81,
   "id": "7c506d61-f204-48bb-9f37-d000e8da62c2",
   "metadata": {},
   "outputs": [
    {
     "name": "stdout",
     "output_type": "stream",
     "text": [
      "Squared numbers: [1, 4, 9, 16, 25]\n"
     ]
    }
   ],
   "source": [
    "# Lambda function to square a number\n",
    "square = lambda x: x**2\n",
    "\n",
    "numbers = [1, 2, 3, 4, 5]\n",
    "squared_numbers = list(map(square, numbers))\n",
    "print(f\"Squared numbers: {squared_numbers}\")\n"
   ]
  },
  {
   "cell_type": "markdown",
   "id": "8d26bc0c-c855-422d-93f7-1d2347744311",
   "metadata": {},
   "source": [
    "4. Recursion: It is a method of solving problems where a function calls itself."
   ]
  },
  {
   "cell_type": "code",
   "execution_count": 83,
   "id": "da5d4b44-d160-4f13-86e1-da47875e7293",
   "metadata": {},
   "outputs": [
    {
     "name": "stdout",
     "output_type": "stream",
     "text": [
      "5! = 5040\n",
      "0! = 362880\n"
     ]
    }
   ],
   "source": [
    "def factorial(n):\n",
    "    if n == 0 or n == 1:\n",
    "        return 1\n",
    "    else:\n",
    "        return n * factorial(n-1)\n",
    "\n",
    "# Using the recursive function\n",
    "print(f\"5! = {factorial(7)}\")\n",
    "print(f\"0! = {factorial(9)}\")"
   ]
  },
  {
   "cell_type": "markdown",
   "id": "7f8beb1b-52ce-4ff7-b5d3-689c8980a6fb",
   "metadata": {},
   "source": [
    "5. Functions with *args and **kwargs?"
   ]
  },
  {
   "cell_type": "markdown",
   "id": "0dd28d50-cfc2-4e56-944d-0f7a2d875604",
   "metadata": {},
   "source": [
    "## F-Strings and Environments in Python\n",
    "\n",
    "F-strings provide a concise and readable way to embed expressions inside string literals. Let's explore their usage in different environments and some advanced features. I have already used the f-string before. Let's dive deep into it."
   ]
  },
  {
   "cell_type": "code",
   "execution_count": 85,
   "id": "3cb652ce-57d9-4eac-b65a-a0926a8a1415",
   "metadata": {},
   "outputs": [
    {
     "name": "stdout",
     "output_type": "stream",
     "text": [
      "My name is Alita and I am 26 years old.\n",
      "Next year, I will be 27 years old.\n"
     ]
    }
   ],
   "source": [
    "name = \"Alita\"\n",
    "age = 26\n",
    "\n",
    "# Basic f-string\n",
    "print(f\"My name is {name} and I am {age} years old.\")\n",
    "\n",
    "# F-string with expression\n",
    "print(f\"Next year, I will be {age + 1} years old.\")\n"
   ]
  },
  {
   "cell_type": "code",
   "execution_count": null,
   "id": "b87ce211-a7ca-4048-a63d-41e936129d18",
   "metadata": {},
   "outputs": [],
   "source": []
  }
 ],
 "metadata": {
  "kernelspec": {
   "display_name": "Python 3 (ipykernel)",
   "language": "python",
   "name": "python3"
  },
  "language_info": {
   "codemirror_mode": {
    "name": "ipython",
    "version": 3
   },
   "file_extension": ".py",
   "mimetype": "text/x-python",
   "name": "python",
   "nbconvert_exporter": "python",
   "pygments_lexer": "ipython3",
   "version": "3.12.6"
  }
 },
 "nbformat": 4,
 "nbformat_minor": 5
}
