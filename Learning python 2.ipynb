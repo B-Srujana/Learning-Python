{
 "cells": [
  {
   "cell_type": "markdown",
   "id": "993ca596-30c6-4f9b-a4e4-3349ea461cb2",
   "metadata": {},
   "source": [
    "## Data Structures and Advanced Data Types"
   ]
  },
  {
   "cell_type": "markdown",
   "id": "ca332881-fc4b-47b5-a41a-2f806d938f5f",
   "metadata": {},
   "source": [
    "#### Strings are sequences of characters in Python."
   ]
  },
  {
   "cell_type": "code",
   "execution_count": 3,
   "id": "138099f6-00e5-4f94-a9f9-a9fdf3e66a07",
   "metadata": {},
   "outputs": [
    {
     "name": "stdout",
     "output_type": "stream",
     "text": [
      "Welcome to my notebook!\n",
      "23\n",
      "WELCOME TO MY NOTEBOOK!\n",
      "welcome to my notebook!\n",
      "['Welcome to my notebook!']\n"
     ]
    }
   ],
   "source": [
    "text = \"Welcome to my notebook!\"\n",
    "print(text)\n",
    "print(len(text))  # Length\n",
    "print(text.upper())  # Uppercase\n",
    "print(text.lower())  # Lowercase\n",
    "print(text.split(','))  # Split into a list"
   ]
  },
  {
   "cell_type": "markdown",
   "id": "7382a063-64ea-469f-bca3-1073aa2d5cb9",
   "metadata": {},
   "source": [
    "#### Lists are ordered, mutable sequences in Python."
   ]
  },
  {
   "cell_type": "code",
   "execution_count": 4,
   "id": "27f50b78-206d-437a-bbb8-fb4b6b8a4dbd",
   "metadata": {},
   "outputs": [
    {
     "name": "stdout",
     "output_type": "stream",
     "text": [
      "1\n"
     ]
    }
   ],
   "source": [
    "my_list = [9, 7, 1, 5, 3]\n",
    "print(my_list[2])  # Output: 3 (accessing the element at index 2)"
   ]
  },
  {
   "cell_type": "code",
   "execution_count": 36,
   "id": "ca728c81-efd8-4cbf-b916-7f5268f6a80c",
   "metadata": {},
   "outputs": [
    {
     "name": "stdout",
     "output_type": "stream",
     "text": [
      "[0, 1, 22, 3, 4, 5, 6, 7, 8, 9]\n",
      "[0, 1, [2, 2, 2], 3, 4, 5, 6, 7, 8, 9]\n"
     ]
    }
   ],
   "source": [
    "#Nested dictionaries or lists:\n",
    "#nested list\n",
    "my_list = [0, 1, 2, 3, 4, 5, 6, 7, 8, 9]\n",
    "my_list[2]=22\n",
    "print(my_list)\n",
    "my_list[2]=[2,2,2]\n",
    "print(my_list)"
   ]
  },
  {
   "cell_type": "code",
   "execution_count": 5,
   "id": "17eee2db-6e51-47ae-a071-0e37b271d71b",
   "metadata": {},
   "outputs": [
    {
     "name": "stdout",
     "output_type": "stream",
     "text": [
      "[9, 0, 5, 9, 0, 9, 0, 5, 7]\n"
     ]
    }
   ],
   "source": [
    "\"\"\"Nested list and list comprehension\n",
    "It is list of lists, where each element is itself a list.\"\"\"\n",
    "nested_list = [[9, 0, 5], [9, 0], [9, 0, 5, 7]] #There are three sublists\n",
    "\n",
    "\"\"\"Flattened list is a list comprehension that flattens a nested list into a single list.\n",
    "It involves looping through a list of lists and extracting individual elements from each sublist.\"\"\"\n",
    "\n",
    "flattened_list = [item for sublist in nested_list for item in sublist]\n",
    "print(flattened_list)"
   ]
  },
  {
   "cell_type": "markdown",
   "id": "bddf1b0c-c787-4430-bb02-ff63813047b2",
   "metadata": {},
   "source": [
    "#### List methods:\n",
    "1. append\n",
    "2. count\n",
    "3. remove\n",
    "4. pop\n",
    "5. insert\n",
    "6. index\n",
    "7. reverse\n",
    "8. sort"
   ]
  },
  {
   "cell_type": "code",
   "execution_count": 7,
   "id": "97cbc826-0444-4283-b306-545a4862d73d",
   "metadata": {},
   "outputs": [
    {
     "name": "stdout",
     "output_type": "stream",
     "text": [
      "pear\n",
      "ORANGE\n"
     ]
    }
   ],
   "source": [
    "Fruits = ['apple', 'pear', 'orange'] \n",
    "print(Fruits[1])\n",
    "print(Fruits[-1].upper())"
   ]
  },
  {
   "cell_type": "code",
   "execution_count": 8,
   "id": "66df3b86-33b4-4a80-adcb-02f98237b9da",
   "metadata": {},
   "outputs": [
    {
     "name": "stdout",
     "output_type": "stream",
     "text": [
      "['apple', 'pear', 'orange', 'banana']\n"
     ]
    }
   ],
   "source": [
    "Fruits.append(\"banana\")\n",
    "print(Fruits)"
   ]
  },
  {
   "cell_type": "code",
   "execution_count": 9,
   "id": "6119e047-ce12-4701-9e08-07d33d4c5ffe",
   "metadata": {},
   "outputs": [
    {
     "data": {
      "text/plain": [
       "1"
      ]
     },
     "execution_count": 9,
     "metadata": {},
     "output_type": "execute_result"
    }
   ],
   "source": [
    "Fruits.count('banana')"
   ]
  },
  {
   "cell_type": "code",
   "execution_count": 10,
   "id": "c36fecd7-8e4b-43a9-8f9b-0c2da2852d60",
   "metadata": {},
   "outputs": [
    {
     "name": "stdout",
     "output_type": "stream",
     "text": [
      "['apple', 'pear', 'orange']\n"
     ]
    }
   ],
   "source": [
    "Fruits.remove('banana')\n",
    "print(Fruits)"
   ]
  },
  {
   "cell_type": "code",
   "execution_count": 15,
   "id": "7a8d572c-aa20-442c-b2da-4d9fe4941cc7",
   "metadata": {},
   "outputs": [
    {
     "name": "stdout",
     "output_type": "stream",
     "text": [
      "['apple', 'banana', 'banana', 'pear', 'orange']\n"
     ]
    }
   ],
   "source": [
    "Fruits.insert(1,'banana')\n",
    "print(Fruits)"
   ]
  },
  {
   "cell_type": "code",
   "execution_count": 16,
   "id": "756df766-ffe7-43c9-aa06-fb333649083b",
   "metadata": {},
   "outputs": [
    {
     "data": {
      "text/plain": [
       "4"
      ]
     },
     "execution_count": 16,
     "metadata": {},
     "output_type": "execute_result"
    }
   ],
   "source": [
    "Fruits.index('orange')"
   ]
  },
  {
   "cell_type": "code",
   "execution_count": 17,
   "id": "fd075939-d97c-4dab-83ec-11896e7323e5",
   "metadata": {},
   "outputs": [
    {
     "name": "stdout",
     "output_type": "stream",
     "text": [
      "['orange', 'pear', 'banana', 'banana', 'apple']\n"
     ]
    }
   ],
   "source": [
    "Fruits.reverse()\n",
    "print(Fruits)"
   ]
  },
  {
   "cell_type": "code",
   "execution_count": 18,
   "id": "4545963c-7433-4732-ba8c-31acefdc2896",
   "metadata": {},
   "outputs": [
    {
     "name": "stdout",
     "output_type": "stream",
     "text": [
      "['apple', 'banana', 'banana', 'orange', 'pear']\n"
     ]
    }
   ],
   "source": [
    "Fruits.sort()\n",
    "print(Fruits)"
   ]
  },
  {
   "cell_type": "markdown",
   "id": "f6639fe7-9ff4-4d18-b308-86f077e38612",
   "metadata": {},
   "source": [
    "#### Tuple basics:\n",
    "Tuples are ordered, immutable sequences."
   ]
  },
  {
   "cell_type": "code",
   "execution_count": 20,
   "id": "cc8f2bc7-a17d-434f-810b-3e73c9e35c80",
   "metadata": {},
   "outputs": [
    {
     "name": "stdout",
     "output_type": "stream",
     "text": [
      "(10, 20)\n",
      "X: 10, Y: 20\n"
     ]
    }
   ],
   "source": [
    "coordinates = (10, 20)\n",
    "print(coordinates)\n",
    "x, y = coordinates  # Unpacking\n",
    "print(f\"X: {x}, Y: {y}\")"
   ]
  },
  {
   "cell_type": "markdown",
   "id": "a299ff3f-420d-4d72-8d0a-6f15456d3138",
   "metadata": {},
   "source": [
    "#### Set basics:\n",
    "Sets are unordered collections of unique elements."
   ]
  },
  {
   "cell_type": "code",
   "execution_count": 24,
   "id": "0ac83dd1-59e9-423b-8de0-cf82ab8baa7c",
   "metadata": {},
   "outputs": [
    {
     "name": "stdout",
     "output_type": "stream",
     "text": [
      "{1, 2, 3, 4}\n"
     ]
    }
   ],
   "source": [
    "my_set = {1, 2, 3, 4, 1, 2}\n",
    "\n",
    "print(my_set)"
   ]
  },
  {
   "cell_type": "code",
   "execution_count": 25,
   "id": "f978e03a-7ab7-4540-9355-87afe27d65c7",
   "metadata": {},
   "outputs": [
    {
     "name": "stdout",
     "output_type": "stream",
     "text": [
      "{'lettuce', 'auberigene', 'potatoes', 'cabbage'}\n"
     ]
    }
   ],
   "source": [
    "veggies = {'potatoes', 'cabbage', 'auberigene', 'lettuce', 'cabbage'}\n",
    "print(veggies)"
   ]
  },
  {
   "cell_type": "code",
   "execution_count": 26,
   "id": "c5c8cafc-fd4d-4fb1-998c-8b8eafb06768",
   "metadata": {},
   "outputs": [
    {
     "name": "stdout",
     "output_type": "stream",
     "text": [
      "{'auberigene', 'cabbage', 'carrot', 'lettuce', 'potatoes'}\n"
     ]
    }
   ],
   "source": [
    "#add\n",
    "veggies.add('carrot')\n",
    "print(veggies)"
   ]
  },
  {
   "cell_type": "code",
   "execution_count": 27,
   "id": "78adc44e-cd7d-40dc-909b-65cb9043f1ec",
   "metadata": {},
   "outputs": [
    {
     "name": "stdout",
     "output_type": "stream",
     "text": [
      "{'auberigene', 'cabbage', 'lettuce', 'potatoes'}\n"
     ]
    }
   ],
   "source": [
    "#remove\n",
    "veggies.remove('carrot')\n",
    "print(veggies)"
   ]
  },
  {
   "cell_type": "code",
   "execution_count": 28,
   "id": "1957cbc4-cec4-4832-90dc-cae442714af9",
   "metadata": {},
   "outputs": [
    {
     "name": "stdout",
     "output_type": "stream",
     "text": [
      "{'auberigene', 'lettuce', 'potatoes'}\n"
     ]
    }
   ],
   "source": [
    "#discard\n",
    "veggies.discard('cabbage')\n",
    "print(veggies)"
   ]
  },
  {
   "cell_type": "code",
   "execution_count": 29,
   "id": "34843f94-3d10-47fb-8bac-c4392b1f8680",
   "metadata": {},
   "outputs": [
    {
     "name": "stdout",
     "output_type": "stream",
     "text": [
      "{'lettuce', 'auberigene', 'cabbage', 'potatoes'}\n"
     ]
    }
   ],
   "source": [
    "#union\n",
    "veggies1 = {'potatoes', 'cabbage', 'auberigene'}\n",
    "veggies2 = {'lettuce', 'cabbage'}\n",
    "sadunion = veggies1 | veggies2\n",
    "print(sadunion)"
   ]
  },
  {
   "cell_type": "markdown",
   "id": "c1b2c708-8cab-4c26-adc5-786963daadf4",
   "metadata": {},
   "source": [
    "#### Dictionaries are key-value pairs"
   ]
  },
  {
   "cell_type": "code",
   "execution_count": 30,
   "id": "37d2768b-4cac-463a-8317-26a46588c0e1",
   "metadata": {},
   "outputs": [
    {
     "name": "stdout",
     "output_type": "stream",
     "text": [
      "John\n",
      "{'name': 'John', 'age': 30, 'city': 'New York', 'job': 'Engineer'}\n"
     ]
    }
   ],
   "source": [
    "person = {'name': 'John', 'age': 30, 'city': 'New York'}\n",
    "print(person['name'])  # Output: John\n",
    "\n",
    "person['job'] = 'Engineer'\n",
    "print(person)  # Output: {'name': 'John', 'age': 30, 'city': 'New York', 'job': 'Engineer'}"
   ]
  },
  {
   "cell_type": "code",
   "execution_count": 31,
   "id": "e23571ef-80ab-429e-b504-cf43b7719421",
   "metadata": {},
   "outputs": [
    {
     "name": "stdout",
     "output_type": "stream",
     "text": [
      "{'name': 'John', 'age': 30, 'city': 'New York', 'job': 'Engineer', 'company': 'Google'}\n"
     ]
    }
   ],
   "source": [
    "person.update({'company': 'Google'})\n",
    "print(person)"
   ]
  },
  {
   "cell_type": "code",
   "execution_count": 32,
   "id": "86868730-3e0c-40a8-9046-a99f0fed0f35",
   "metadata": {},
   "outputs": [
    {
     "data": {
      "text/plain": [
       "dict_keys(['name', 'age', 'city', 'job', 'company'])"
      ]
     },
     "execution_count": 32,
     "metadata": {},
     "output_type": "execute_result"
    }
   ],
   "source": [
    "person.keys()"
   ]
  },
  {
   "cell_type": "code",
   "execution_count": 33,
   "id": "6aa56007-0e39-49d1-9546-7ab68004c3a8",
   "metadata": {},
   "outputs": [
    {
     "data": {
      "text/plain": [
       "dict_values(['John', 30, 'New York', 'Engineer', 'Google'])"
      ]
     },
     "execution_count": 33,
     "metadata": {},
     "output_type": "execute_result"
    }
   ],
   "source": [
    "person.values()"
   ]
  },
  {
   "cell_type": "code",
   "execution_count": 34,
   "id": "3d6e17aa-1851-457c-9c09-bbdfe9f58007",
   "metadata": {},
   "outputs": [
    {
     "name": "stdout",
     "output_type": "stream",
     "text": [
      "Google\n"
     ]
    }
   ],
   "source": [
    "print(person.get(\"company\"))"
   ]
  },
  {
   "cell_type": "code",
   "execution_count": 35,
   "id": "5dc4f62d-c8de-4506-b4b4-1e4e29606798",
   "metadata": {},
   "outputs": [
    {
     "name": "stdout",
     "output_type": "stream",
     "text": [
      "{'key1': (0, 2, 3), 'key2': (0, 2, 3), 'key3': (0, 2, 3)}\n"
     ]
    }
   ],
   "source": [
    "x = ('key1', 'key2', 'key3')\n",
    "y = (0, 2, 3)\n",
    "\n",
    "thisdict = dict.fromkeys(x, y)\n",
    "\n",
    "print(thisdict)"
   ]
  },
  {
   "cell_type": "code",
   "execution_count": 37,
   "id": "5d85cfad-cbed-4e60-b78e-047d933eb81f",
   "metadata": {},
   "outputs": [
    {
     "name": "stdout",
     "output_type": "stream",
     "text": [
      "Student 1 Math Score: 85\n",
      "Student 2 Science Score: 88\n"
     ]
    }
   ],
   "source": [
    "#nested dictionary\n",
    "students_scores = {\n",
    "    \"student1\": {\n",
    "        \"math\": 85,\n",
    "        \"science\": 90,\n",
    "        \"english\": 78\n",
    "    },\n",
    "    \"student2\": {\n",
    "        \"math\": 92,\n",
    "        \"science\": 88,\n",
    "        \"english\": 81\n",
    "    },\n",
    "    \"student3\": {\n",
    "        \"math\": 75,\n",
    "        \"science\": 80,\n",
    "        \"english\": 79\n",
    "    }\n",
    "}\n",
    "math_score_student1 = students_scores[\"student1\"][\"math\"]\n",
    "print(f\"Student 1 Math Score: {math_score_student1}\")  # Output: 85\n",
    "science_score_student2 = students_scores[\"student2\"][\"science\"]\n",
    "print(f\"Student 2 Science Score: {science_score_student2}\")  # Output: 88"
   ]
  },
  {
   "cell_type": "markdown",
   "id": "1be3bc0b-a6ab-420b-a406-5f065a20c26f",
   "metadata": {},
   "source": [
    "#### Type Coversions"
   ]
  },
  {
   "cell_type": "code",
   "execution_count": 38,
   "id": "a6e9f2b7-0c5b-4fb0-a7fa-df8ef9bd7b1e",
   "metadata": {},
   "outputs": [
    {
     "name": "stdout",
     "output_type": "stream",
     "text": [
      "String: 42, Type: <class 'str'>\n",
      "Integer: 42, Type: <class 'int'>\n",
      "Float: 42.0, Type: <class 'float'>\n",
      "Back to string: 42, Type: <class 'str'>\n"
     ]
    }
   ],
   "source": [
    "# Type conversion examples\n",
    "num_str = \"42\"\n",
    "num_int = int(num_str)  # String to integer\n",
    "num_float = float(num_str)  # String to float\n",
    "back_to_str = str(num_int)  # Integer to string\n",
    "\n",
    "print(f\"String: {num_str}, Type: {type(num_str)}\")\n",
    "print(f\"Integer: {num_int}, Type: {type(num_int)}\")\n",
    "print(f\"Float: {num_float}, Type: {type(num_float)}\")\n",
    "print(f\"Back to string: {back_to_str}, Type: {type(back_to_str)}\")"
   ]
  },
  {
   "cell_type": "markdown",
   "id": "fdb4b509-1c39-41f3-bcee-73d9492be033",
   "metadata": {},
   "source": [
    "#### Binary numbers"
   ]
  },
  {
   "cell_type": "code",
   "execution_count": 39,
   "id": "833e829f-b2ca-4249-a983-6e08f15a56af",
   "metadata": {},
   "outputs": [
    {
     "name": "stdout",
     "output_type": "stream",
     "text": [
      "Decimal: 42\n",
      "Binary: 0b101010\n",
      "Binary string: 101010\n",
      "Decimal from binary: 42\n"
     ]
    }
   ],
   "source": [
    "# Binary number representation\n",
    "decimal_num = 42\n",
    "binary_num = bin(decimal_num)\n",
    "print(f\"Decimal: {decimal_num}\")\n",
    "print(f\"Binary: {binary_num}\")\n",
    "\n",
    "# Binary to decimal conversion\n",
    "binary_str = \"101010\"\n",
    "decimal_from_binary = int(binary_str, 2)\n",
    "print(f\"Binary string: {binary_str}\")\n",
    "print(f\"Decimal from binary: {decimal_from_binary}\")"
   ]
  }
 ],
 "metadata": {
  "kernelspec": {
   "display_name": "Python 3 (ipykernel)",
   "language": "python",
   "name": "python3"
  },
  "language_info": {
   "codemirror_mode": {
    "name": "ipython",
    "version": 3
   },
   "file_extension": ".py",
   "mimetype": "text/x-python",
   "name": "python",
   "nbconvert_exporter": "python",
   "pygments_lexer": "ipython3",
   "version": "3.12.6"
  }
 },
 "nbformat": 4,
 "nbformat_minor": 5
}
