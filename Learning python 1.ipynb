{
 "cells": [
  {
   "cell_type": "markdown",
   "id": "aff75b9d-b9d2-4302-90ca-f09c49f4cb13",
   "metadata": {},
   "source": [
    "# My learning path Python\n",
    "\n",
    "Exploring python has been incredibly fun! I used to feel intimidated by it, but I realized that 'if something feels scary, it means you're not learning it the right way.' With this mindset, I started my Python journey a few months back, and I'm documenting it to help anyone who shares that initial fear, showing them that learning Python can be approachable and enjoyable.\n",
    "\n",
    "Writing a program in Python is like expressing thoughts in English. Just like you use words to communicate ideas, in programming, you use code to communicate logic."
   ]
  },
  {
   "cell_type": "code",
   "execution_count": 1,
   "id": "b04ecd08-d45a-41a2-9fca-332c88d02cb1",
   "metadata": {},
   "outputs": [
    {
     "data": {
      "text/plain": [
       "True"
      ]
     },
     "execution_count": 1,
     "metadata": {},
     "output_type": "execute_result"
    }
   ],
   "source": [
    "#For example, in English, you might say '1 is 1,' but in programming, this needs to be more precise\n",
    "#so we write it as 1 == 1.\n",
    "#1 is 1\n",
    "1 == 1"
   ]
  },
  {
   "cell_type": "markdown",
   "id": "92b76178-a4a4-4252-9e06-8fcb2fc054f6",
   "metadata": {},
   "source": [
    "The == symbol checks if two values are equal, just as the words 'is' or 'equals' connect ideas in a sentence.\n",
    "\n",
    "Both language and programming require structure and clarity. When you write, you follow grammar rules to make sure you're understood. In the same way, when you write code, you follow syntax rules so that the computer can execute your instructions correctly. In both cases, it's all about expressing yourself in a way that gets the intended message across. So, let's check out the other numeric operations."
   ]
  },
  {
   "cell_type": "code",
   "execution_count": 2,
   "id": "4efc1f63-def4-42e0-aa08-34cfa144ca2d",
   "metadata": {},
   "outputs": [
    {
     "name": "stdout",
     "output_type": "stream",
     "text": [
      "Hello world!\n"
     ]
    }
   ],
   "source": [
    "#Let me add the famous program\n",
    "print ('Hello world!')"
   ]
  },
  {
   "cell_type": "markdown",
   "id": "90d5da99-2224-49f9-aafa-b7b4e52f33bf",
   "metadata": {},
   "source": [
    "#### Python uses indentation to define code blocks. This enforces clean, readable code but can lead to errors if not properly managed."
   ]
  },
  {
   "cell_type": "markdown",
   "id": "4745b5e1-cdd1-4969-a2c3-aa36e5ac860e",
   "metadata": {},
   "source": [
    "Before going deeper let us understand the common errors we can make in Python.\n",
    "1. Syntax Errors - Syntax errors occur when Python code is not properly structured or written according to the laguage's rules. They happen before the program is run and are detected during the compilation or interpretation phase.\n",
    "2. Runtime Errors - Runtime errors occur after the program starts executing, typically when the program encounters an operation that is illegal or undefined during its execution. The syntax is correct, but an operation might be invalid.\n",
    "3. Logical Errors - Logical errors occur when the program runs without crashing but produces incorrect or unintended results. These errors are often harder to detect because the syntax is correct, and no runtime errors are thrown, but the program doesn't behave as expected."
   ]
  },
  {
   "cell_type": "markdown",
   "id": "7cc4e0bc-4f8f-4c95-bf62-93647548a906",
   "metadata": {},
   "source": [
    "## Variables, Data Types, and Basic Operations"
   ]
  },
  {
   "cell_type": "markdown",
   "id": "76c7ffc3-19e5-459f-9d2c-16abd5a7a2e6",
   "metadata": {},
   "source": [
    "Variables are used to store data. You can assign values to variables using the '=' operator."
   ]
  },
  {
   "cell_type": "code",
   "execution_count": 5,
   "id": "b4fd8740-3927-41a5-b52d-dd8e6b794429",
   "metadata": {},
   "outputs": [
    {
     "name": "stdout",
     "output_type": "stream",
     "text": [
      "1\n",
      "Python is awesome!\n"
     ]
    }
   ],
   "source": [
    "x = 1\n",
    "y = \"Python is awesome!\"\n",
    "print(x)\n",
    "print(y)"
   ]
  },
  {
   "cell_type": "markdown",
   "id": "12d6fed1-ebcf-4410-af2f-1e322212bbdb",
   "metadata": {},
   "source": [
    "Identifiers are names given to variables, functions, classes, etc. In Python:\n",
    "1. They must start with a letter (a-z, A-Z) or underscore (_)\n",
    "2. They can contain letters, numbers, and underscores\n",
    "3. They are case-sensitive"
   ]
  },
  {
   "cell_type": "code",
   "execution_count": 7,
   "id": "601c86b4-4db6-4194-aff2-9bb446f5b018",
   "metadata": {},
   "outputs": [],
   "source": [
    "my_variable = 10\n",
    "_private = \"Hello\"\n",
    "Variable123 = True"
   ]
  },
  {
   "cell_type": "code",
   "execution_count": 8,
   "id": "3279cefc-08df-40a7-8f26-9fcc2992451c",
   "metadata": {},
   "outputs": [
    {
     "ename": "SyntaxError",
     "evalue": "invalid decimal literal (2010888788.py, line 1)",
     "output_type": "error",
     "traceback": [
      "\u001b[0;36m  Cell \u001b[0;32mIn[8], line 1\u001b[0;36m\u001b[0m\n\u001b[0;31m    2variable = 5  # Starts with a number\u001b[0m\n\u001b[0m    ^\u001b[0m\n\u001b[0;31mSyntaxError\u001b[0m\u001b[0;31m:\u001b[0m invalid decimal literal\n"
     ]
    }
   ],
   "source": [
    "2variable = 5  # Starts with a number\n",
    "my-variable = 10  # Contains hyphen\n",
    "class = \"Python\"  # Reserved keyword"
   ]
  },
  {
   "cell_type": "markdown",
   "id": "8d38a733-12de-4fc9-926e-f6e8487ab332",
   "metadata": {},
   "source": [
    "Floating-point numbers are used to represent real numbers in Python."
   ]
  },
  {
   "cell_type": "code",
   "execution_count": 9,
   "id": "9e070d4c-a93b-4382-b002-277357fd3cdc",
   "metadata": {},
   "outputs": [
    {
     "name": "stdout",
     "output_type": "stream",
     "text": [
      "3.14 250.0\n"
     ]
    }
   ],
   "source": [
    "x = 3.14\n",
    "y = 2.5e2  # Scientific notation: 2.5 * 10^2\n",
    "print(x, y)"
   ]
  },
  {
   "cell_type": "code",
   "execution_count": null,
   "id": "c76374a5-5089-48bb-a580-040329a7c671",
   "metadata": {},
   "outputs": [],
   "source": [
    "Arithmetic expressions:"
   ]
  },
  {
   "cell_type": "code",
   "execution_count": 10,
   "id": "5dac07d2-2091-46c4-a1ea-48fce428bc32",
   "metadata": {},
   "outputs": [
    {
     "name": "stdout",
     "output_type": "stream",
     "text": [
      "4\n"
     ]
    }
   ],
   "source": [
    "#Addition\n",
    "a = 1\n",
    "b = 3\n",
    "\n",
    "print(a+b)"
   ]
  },
  {
   "cell_type": "code",
   "execution_count": 11,
   "id": "bd2c98cc-9989-4e49-bc1e-b3f54731ac58",
   "metadata": {},
   "outputs": [
    {
     "name": "stdin",
     "output_type": "stream",
     "text": [
      "Enter the value of 'a' 90\n",
      "Enter the value of 'b' 8\n"
     ]
    },
    {
     "name": "stdout",
     "output_type": "stream",
     "text": [
      "The result is:82\n"
     ]
    }
   ],
   "source": [
    "\"\"\"Subtraction\n",
    "Instead of directly subtracting, let us assign values\"\"\"\n",
    "\n",
    "a = int(input(\"Enter the value of 'a'\"))\n",
    "b = int(input(\"Enter the value of 'b'\"))\n",
    "\n",
    "print(f\"The result is:{a-b}\")"
   ]
  },
  {
   "cell_type": "code",
   "execution_count": 12,
   "id": "dd052f6c-b0f1-4200-ae0c-193a66ec3668",
   "metadata": {},
   "outputs": [
    {
     "name": "stdin",
     "output_type": "stream",
     "text": [
      "Enter the value of 'a':  89\n"
     ]
    },
    {
     "name": "stdout",
     "output_type": "stream",
     "text": [
      "Result of multiplying 'a' and 'a-1': 7832\n"
     ]
    }
   ],
   "source": [
    "\"\"\"Multiplication\n",
    "Write a program that multiplies two numbers, 'a' and 'a - 1'; where a != 0 and a*(a-1) does not result in a negative number.\"\"\"\n",
    "\n",
    "def multiply(a):\n",
    "    if a <= 0:\n",
    "        return \"Please give a valid number\"\n",
    "    if a > 1:\n",
    "        return a * (a - 1)\n",
    "    return \"Value of a needs to be greater than 1\"\n",
    "\n",
    "# Get user input\n",
    "a = int(input(\"Enter the value of 'a': \"))\n",
    "result = multiply(a)  # Store the result of the function in a variable\n",
    "print(\"Result of multiplying 'a' and 'a-1':\", result)  # Print the result"
   ]
  },
  {
   "cell_type": "code",
   "execution_count": 13,
   "id": "0316e70d-2a7a-4039-b758-9e18c73c2280",
   "metadata": {},
   "outputs": [
    {
     "name": "stdin",
     "output_type": "stream",
     "text": [
      "Enter the numerator: 90\n",
      "Enter the denominator: 7\n"
     ]
    },
    {
     "name": "stdout",
     "output_type": "stream",
     "text": [
      "The results are: 12.857142857142858\n"
     ]
    }
   ],
   "source": [
    "\"\"\"Division\n",
    "Write a Python program that takes two numbers as input from the user and divides the first number by the second number.\n",
    "Make sure to handle the case where the second number is zero by displaying an appropriate message instead of performing the division.\"\"\"\n",
    "\n",
    "def divide(a, b):\n",
    "    if b == 0:\n",
    "        return \"Division by 0 is not allowed. Give non-zero divisor\"\n",
    "    else:\n",
    "        return a/b\n",
    "#Float() is a method that returns a floating-point number for a provided number or string.\n",
    "a = float (input(\"Enter the numerator:\"))\n",
    "b = float (input(\"Enter the denominator:\"))\n",
    "\n",
    "# Perform division and display the result\n",
    "result = divide(a, b)\n",
    "print(\"The results are:\", result)"
   ]
  },
  {
   "cell_type": "markdown",
   "id": "f9224788-e7a8-4b57-8097-4079d4796a62",
   "metadata": {},
   "source": [
    "The random module is used to generate random numbers:"
   ]
  },
  {
   "cell_type": "code",
   "execution_count": 14,
   "id": "b105e7cb-ea16-45b7-b588-f0abfe53efa4",
   "metadata": {},
   "outputs": [
    {
     "name": "stdout",
     "output_type": "stream",
     "text": [
      "0.18386645092623688\n",
      "3\n"
     ]
    }
   ],
   "source": [
    "import random\n",
    "\n",
    "print(random.random())  # Random float between 0 and 1\n",
    "print(random.randint(1, 10))  # Random integer between 1 and 10"
   ]
  },
  {
   "cell_type": "code",
   "execution_count": 15,
   "id": "e1016c15-dca4-4900-96a8-d83cabba2381",
   "metadata": {},
   "outputs": [
    {
     "name": "stdout",
     "output_type": "stream",
     "text": [
      "13\n"
     ]
    }
   ],
   "source": [
    "import random\n",
    "print(random.randint(1,100))"
   ]
  },
  {
   "cell_type": "code",
   "execution_count": null,
   "id": "fe8ce803-554d-4872-b1b2-0955fa3e524c",
   "metadata": {},
   "outputs": [],
   "source": []
  }
 ],
 "metadata": {
  "kernelspec": {
   "display_name": "Python 3 (ipykernel)",
   "language": "python",
   "name": "python3"
  },
  "language_info": {
   "codemirror_mode": {
    "name": "ipython",
    "version": 3
   },
   "file_extension": ".py",
   "mimetype": "text/x-python",
   "name": "python",
   "nbconvert_exporter": "python",
   "pygments_lexer": "ipython3",
   "version": "3.12.6"
  }
 },
 "nbformat": 4,
 "nbformat_minor": 5
}
