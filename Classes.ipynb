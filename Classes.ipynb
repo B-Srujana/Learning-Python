{
 "cells": [
  {
   "cell_type": "markdown",
   "id": "958f779f-fe81-448f-aee5-c3e94a1a8f0b",
   "metadata": {},
   "source": [
    "# Classes in Python\n",
    "\n",
    "Classes are fundamental to object-oriented programming in Python. They allow you to create custom data types with their own attributes and methods.\n",
    "\n",
    "### Building a Class\n",
    "\n",
    "To create a class, use the `class` keyword followed by the class name:\n",
    "\n",
    "```python\n",
    "class BusinessAnalyst:\n",
    "    pass\n"
   ]
  },
  {
   "cell_type": "markdown",
   "id": "7ee8af01-c7b6-4ebf-87db-a76d15bdaf59",
   "metadata": {},
   "source": [
    "### Defining Attributes\n",
    "Attributes can be defined within the class. There are two types of attributes:\n",
    "\n",
    "    Class attributes: Shared by all instances of the class\n",
    "    Instance attributes: Unique to each instance of the class\n"
   ]
  },
  {
   "cell_type": "code",
   "execution_count": 2,
   "id": "f07d3232-1b8d-498a-81d8-319684978dd5",
   "metadata": {},
   "outputs": [],
   "source": [
    "class BusinessAnalyst:\n",
    "    company = \"TechCorp\"  # Class attribute\n",
    "    \n",
    "    def __init__(self, name, age):\n",
    "        self.name = name  # Instance attribute\n",
    "        self.age = age    # Instance attribute\n"
   ]
  },
  {
   "cell_type": "markdown",
   "id": "f241b935-34a1-42dc-b759-ac44b779379e",
   "metadata": {},
   "source": [
    "### Methods vs Attributes\n",
    "\n",
    "    Attributes are variables that hold data.\n",
    "    Methods are functions defined within a class that can perform operations on the class data.\n"
   ]
  },
  {
   "cell_type": "code",
   "execution_count": 3,
   "id": "7807a86f-63b9-4711-ae3f-101b73c548a1",
   "metadata": {},
   "outputs": [],
   "source": [
    "class BusinessAnalyst:\n",
    "    company = \"TechCorp\"\n",
    "    \n",
    "    def __init__(self, name, age):\n",
    "        self.name = name\n",
    "        self.age = age\n",
    "    \n",
    "    def introduce(self):  # Method\n",
    "        return f\"Hi, I'm {self.name}, a {self.age}-year-old analyst at {self.company}\"\n"
   ]
  },
  {
   "cell_type": "markdown",
   "id": "13fef33f-1bd1-4872-ba12-8269cc311ab7",
   "metadata": {},
   "source": [
    "### Adding Methods\n",
    "Methods are defined within the class and typically take self as the first parameter to reference the instance:"
   ]
  },
  {
   "cell_type": "code",
   "execution_count": 4,
   "id": "06dafa7a-b497-4e7c-bfb5-81f213710e0d",
   "metadata": {},
   "outputs": [],
   "source": [
    "class BusinessAnalyst:\n",
    "    def __init__(self, name, age):\n",
    "        self.name = name\n",
    "        self.age = age\n",
    "    \n",
    "    def birthday(self):\n",
    "        self.age += 1\n",
    "        print(f\"Happy birthday! {self.name} is now {self.age} years old.\")\n"
   ]
  },
  {
   "cell_type": "markdown",
   "id": "3a06d2ed-2633-4788-a399-f87f4cb5ad0d",
   "metadata": {},
   "source": [
    "### Class Customization: __str__ Method\n",
    "The __str__ method allows you to customize the string representation of your class:\n",
    "\n"
   ]
  },
  {
   "cell_type": "code",
   "execution_count": 5,
   "id": "dbcb9b69-8be7-4efc-a5c5-02b5d72bd47f",
   "metadata": {},
   "outputs": [
    {
     "name": "stdout",
     "output_type": "stream",
     "text": [
      "BusinessAnalyst(name=Alice, age=28)\n"
     ]
    }
   ],
   "source": [
    "class BusinessAnalyst:\n",
    "    def __init__(self, name, age):\n",
    "        self.name = name\n",
    "        self.age = age\n",
    "    \n",
    "    def __str__(self):\n",
    "        return f\"BusinessAnalyst(name={self.name}, age={self.age})\"\n",
    "\n",
    "analyst = BusinessAnalyst(\"Alice\", 28)\n",
    "print(analyst)  # Output: BusinessAnalyst(name=Alice, age=28)\n"
   ]
  },
  {
   "cell_type": "markdown",
   "id": "545118f4-e53b-489a-8224-ab49761231dd",
   "metadata": {},
   "source": [
    "### Inheritance\n",
    "Inheritance allows a class to inherit attributes and methods from another class.\n",
    "\n",
    "#### Inheriting from a Base Class"
   ]
  },
  {
   "cell_type": "code",
   "execution_count": 6,
   "id": "8d646391-4280-4865-8fa1-a4910e22e1eb",
   "metadata": {},
   "outputs": [],
   "source": [
    "class Employee:\n",
    "    def __init__(self, name, employee_id):\n",
    "        self.name = name\n",
    "        self.employee_id = employee_id\n",
    "\n",
    "class DataAnalyst(Employee):\n",
    "    def __init__(self, name, employee_id, specialization):\n",
    "        super().__init__(name, employee_id)  # Call base class constructor\n",
    "        self.specialization = specialization\n"
   ]
  },
  {
   "cell_type": "markdown",
   "id": "f2e1998d-dec5-4100-aa22-2f4d74d46a25",
   "metadata": {},
   "source": [
    "### Method Overriding\n",
    "You can override methods from the base class in the derived class:"
   ]
  },
  {
   "cell_type": "code",
   "execution_count": null,
   "id": "9a34c8ab-8061-4835-b93a-61d433ec76d9",
   "metadata": {},
   "outputs": [],
   "source": [
    "class Employee:\n",
    "    def work(self):\n",
    "        return \"Doing general work\"\n",
    "\n",
    "class DataAnalyst(Employee):\n",
    "    def work(self):\n",
    "        return \"Analyzing data\"\n",
    "\n",
    "analyst = DataAnalyst(\"Bob\", \"DA001\", \"Machine Learning\")\n",
    "print(analyst.work())  # Output: Analyzing data\n"
   ]
  },
  {
   "cell_type": "markdown",
   "id": "58f17bf6-26a1-46b8-88ce-f1ea5e33fa2b",
   "metadata": {},
   "source": [
    "### Modifying Methods\n",
    "You can extend the functionality of a base class method:"
   ]
  },
  {
   "cell_type": "code",
   "execution_count": 7,
   "id": "dbf0f0a6-e8fc-4633-b642-35d27dff6b31",
   "metadata": {},
   "outputs": [],
   "source": [
    "class DataAnalyst(Employee):\n",
    "    def work(self):\n",
    "        base_work = super().work()\n",
    "        return f\"{base_work} and performing data analysis\"\n"
   ]
  },
  {
   "cell_type": "markdown",
   "id": "5bd6e83e-abc2-4750-93d4-60150dc1fa42",
   "metadata": {},
   "source": [
    "## Exceptions\n",
    "Exception handling allows you to gracefully manage errors in your code.\n",
    "Try-Except Blocks"
   ]
  },
  {
   "cell_type": "code",
   "execution_count": 8,
   "id": "6c523211-a2a4-4160-ba9e-1826025a7720",
   "metadata": {},
   "outputs": [
    {
     "name": "stdout",
     "output_type": "stream",
     "text": [
      "Cannot divide by zero!\n"
     ]
    }
   ],
   "source": [
    "try:\n",
    "    result = 10 / 0\n",
    "except ZeroDivisionError:\n",
    "    print(\"Cannot divide by zero!\")\n"
   ]
  },
  {
   "cell_type": "markdown",
   "id": "8021c59e-fd01-4686-93d5-66d4f7069069",
   "metadata": {},
   "source": [
    "### Handling Specific Exceptions"
   ]
  },
  {
   "cell_type": "code",
   "execution_count": 10,
   "id": "cc7d5a6b-5d94-4f02-b1ac-174f01431df8",
   "metadata": {},
   "outputs": [
    {
     "name": "stdin",
     "output_type": "stream",
     "text": [
      "Enter a number:  0\n"
     ]
    },
    {
     "name": "stdout",
     "output_type": "stream",
     "text": [
      "Cannot divide by zero!\n"
     ]
    }
   ],
   "source": [
    "try:\n",
    "    num = int(input(\"Enter a number: \"))\n",
    "    result = 10 / num\n",
    "except ValueError:\n",
    "    print(\"Invalid input. Please enter a number.\")\n",
    "except ZeroDivisionError:\n",
    "    print(\"Cannot divide by zero!\")\n"
   ]
  },
  {
   "cell_type": "markdown",
   "id": "83692daf-de37-45d7-ac9e-ae678ec88dac",
   "metadata": {},
   "source": [
    "### Handling Multiple Exceptions"
   ]
  },
  {
   "cell_type": "code",
   "execution_count": 11,
   "id": "99676e4e-2900-4b0a-a95e-2399ae659be2",
   "metadata": {},
   "outputs": [],
   "source": [
    "try:\n",
    "    # Some code that might raise exceptions\n",
    "    pass\n",
    "except (ValueError, TypeError) as e:\n",
    "    print(f\"An error occurred: {e}\")\n"
   ]
  },
  {
   "cell_type": "markdown",
   "id": "28345f12-15da-454a-9114-511dc790c8a8",
   "metadata": {},
   "source": [
    "### Raising Errors"
   ]
  },
  {
   "cell_type": "code",
   "execution_count": 12,
   "id": "4b266494-46da-46c3-9f06-0308bc64ee9c",
   "metadata": {},
   "outputs": [],
   "source": [
    "def validate_age(age):\n",
    "    if age < 0:\n",
    "        raise ValueError(\"Age cannot be negative\")\n",
    "    return age\n"
   ]
  },
  {
   "cell_type": "markdown",
   "id": "5ac2a8fc-80fc-47be-a8db-8a2a6748ded3",
   "metadata": {},
   "source": [
    "### Finally Clause"
   ]
  },
  {
   "cell_type": "code",
   "execution_count": 13,
   "id": "63409e54-9a15-4df5-996e-499390b85803",
   "metadata": {},
   "outputs": [
    {
     "name": "stdout",
     "output_type": "stream",
     "text": [
      "File not found\n"
     ]
    },
    {
     "ename": "NameError",
     "evalue": "name 'file' is not defined",
     "output_type": "error",
     "traceback": [
      "\u001b[0;31m---------------------------------------------------------------------------\u001b[0m",
      "\u001b[0;31mNameError\u001b[0m                                 Traceback (most recent call last)",
      "Cell \u001b[0;32mIn[13], line 7\u001b[0m\n\u001b[1;32m      5\u001b[0m     \u001b[38;5;28mprint\u001b[39m(\u001b[38;5;124m\"\u001b[39m\u001b[38;5;124mFile not found\u001b[39m\u001b[38;5;124m\"\u001b[39m)\n\u001b[1;32m      6\u001b[0m \u001b[38;5;28;01mfinally\u001b[39;00m:\n\u001b[0;32m----> 7\u001b[0m     \u001b[43mfile\u001b[49m\u001b[38;5;241m.\u001b[39mclose()  \u001b[38;5;66;03m# This will always execute\u001b[39;00m\n",
      "\u001b[0;31mNameError\u001b[0m: name 'file' is not defined"
     ]
    }
   ],
   "source": [
    "try:\n",
    "    file = open(\"data.txt\", \"r\")\n",
    "    # Process file\n",
    "except FileNotFoundError:\n",
    "    print(\"File not found\")\n",
    "finally:\n",
    "    file.close()  # This will always execute\n"
   ]
  },
  {
   "cell_type": "markdown",
   "id": "f4375bf3-366b-474f-8eef-5f7e5d2e8f09",
   "metadata": {},
   "source": [
    "## Modules\n",
    "Modules allow you to organize and reuse code.\n",
    "### Importing Modules"
   ]
  },
  {
   "cell_type": "code",
   "execution_count": 14,
   "id": "747ba050-c432-4813-a168-68a5c811f2ae",
   "metadata": {},
   "outputs": [],
   "source": [
    "import math\n",
    "\n",
    "radius = 5\n",
    "area = math.pi * radius ** 2\n"
   ]
  },
  {
   "cell_type": "markdown",
   "id": "8421adfd-7b81-44c3-bb69-c9f172c413e0",
   "metadata": {},
   "source": [
    "### Importing Specific Functions"
   ]
  },
  {
   "cell_type": "code",
   "execution_count": 15,
   "id": "343691c7-7d12-4b7f-844c-001b74432704",
   "metadata": {},
   "outputs": [],
   "source": [
    "from math import pi, sqrt\n",
    "\n",
    "area = pi * 5 ** 2\n",
    "root = sqrt(25)\n"
   ]
  },
  {
   "cell_type": "markdown",
   "id": "f39eba4f-8003-4a2c-b144-c7401443a75f",
   "metadata": {},
   "source": [
    "### Importing and Renaming"
   ]
  },
  {
   "cell_type": "code",
   "execution_count": 16,
   "id": "edf83b88-1bb9-4b21-83de-4995d094b57e",
   "metadata": {},
   "outputs": [
    {
     "ename": "ModuleNotFoundError",
     "evalue": "No module named 'pandas'",
     "output_type": "error",
     "traceback": [
      "\u001b[0;31m---------------------------------------------------------------------------\u001b[0m",
      "\u001b[0;31mModuleNotFoundError\u001b[0m                       Traceback (most recent call last)",
      "Cell \u001b[0;32mIn[16], line 1\u001b[0m\n\u001b[0;32m----> 1\u001b[0m \u001b[38;5;28;01mimport\u001b[39;00m \u001b[38;5;21;01mpandas\u001b[39;00m \u001b[38;5;28;01mas\u001b[39;00m \u001b[38;5;21;01mpd\u001b[39;00m\n\u001b[1;32m      2\u001b[0m \u001b[38;5;28;01mimport\u001b[39;00m \u001b[38;5;21;01mnumpy\u001b[39;00m \u001b[38;5;28;01mas\u001b[39;00m \u001b[38;5;21;01mnp\u001b[39;00m\n",
      "\u001b[0;31mModuleNotFoundError\u001b[0m: No module named 'pandas'"
     ]
    }
   ],
   "source": [
    "import pandas as pd\n",
    "import numpy as np\n"
   ]
  },
  {
   "cell_type": "markdown",
   "id": "fa9d59bc-d0a8-4506-8dfc-3c0f3bb08d08",
   "metadata": {},
   "source": [
    "### Checking if File is Main Script"
   ]
  },
  {
   "cell_type": "code",
   "execution_count": 17,
   "id": "410734da-211b-4634-bca7-da3ecd0ab4c0",
   "metadata": {},
   "outputs": [
    {
     "name": "stdout",
     "output_type": "stream",
     "text": [
      "This script is being run directly\n"
     ]
    }
   ],
   "source": [
    "if __name__ == \"__main__\":\n",
    "    print(\"This script is being run directly\")\n",
    "else:\n",
    "    print(\"This script is being imported as a module\")\n"
   ]
  },
  {
   "cell_type": "markdown",
   "id": "82d59b51-339a-4a91-b75d-9e9fd49d0741",
   "metadata": {},
   "source": [
    "### Using datetime Module"
   ]
  },
  {
   "cell_type": "code",
   "execution_count": 19,
   "id": "1bbcddb9-2772-49f5-ba74-9681e30cbbf3",
   "metadata": {},
   "outputs": [
    {
     "name": "stdout",
     "output_type": "stream",
     "text": [
      "Current date: 2024-11-04\n",
      "Date after a week: 2024-11-11\n"
     ]
    }
   ],
   "source": [
    "from datetime import datetime, timedelta\n",
    "\n",
    "now = datetime.now()\n",
    "future = now + timedelta(days=7)\n",
    "print(f\"Current date: {now.date()}\")\n",
    "print(f\"Date after a week: {future.date()}\")\n"
   ]
  },
  {
   "cell_type": "markdown",
   "id": "4f7caa47-fc4b-426f-ae07-b1af0a784f24",
   "metadata": {},
   "source": [
    "## File Operations\n",
    "### Reading and Writing Files"
   ]
  },
  {
   "cell_type": "code",
   "execution_count": 21,
   "id": "b4d21f03-05cc-4b40-823a-aa5b188ee4f2",
   "metadata": {},
   "outputs": [
    {
     "name": "stdout",
     "output_type": "stream",
     "text": [
      "Business Analytics Report\n",
      "Date: 2024-11-03\n",
      "\n"
     ]
    }
   ],
   "source": [
    "# Writing to a file\n",
    "with open(\"report.txt\", \"w\") as file:\n",
    "    file.write(\"Business Analytics Report\\n\")\n",
    "    file.write(\"Date: 2024-11-03\\n\")\n",
    "\n",
    "# Reading from a file\n",
    "with open(\"report.txt\", \"r\") as file:\n",
    "    content = file.read()\n",
    "    print(content)\n"
   ]
  },
  {
   "cell_type": "markdown",
   "id": "5a24fce8-1e24-4118-9108-48c08a36c6ac",
   "metadata": {},
   "source": [
    "### Using os Module"
   ]
  },
  {
   "cell_type": "code",
   "execution_count": 22,
   "id": "1d814b95-3a8a-4ab6-8971-7b31f2a9f9c5",
   "metadata": {},
   "outputs": [
    {
     "ename": "FileNotFoundError",
     "evalue": "[Errno 2] No such file or directory: '/path/to/data'",
     "output_type": "error",
     "traceback": [
      "\u001b[0;31m---------------------------------------------------------------------------\u001b[0m",
      "\u001b[0;31mFileNotFoundError\u001b[0m                         Traceback (most recent call last)",
      "Cell \u001b[0;32mIn[22], line 5\u001b[0m\n\u001b[1;32m      3\u001b[0m \u001b[38;5;66;03m# List all files in a directory\u001b[39;00m\n\u001b[1;32m      4\u001b[0m directory \u001b[38;5;241m=\u001b[39m \u001b[38;5;124m\"\u001b[39m\u001b[38;5;124m/path/to/data\u001b[39m\u001b[38;5;124m\"\u001b[39m\n\u001b[0;32m----> 5\u001b[0m \u001b[38;5;28;01mfor\u001b[39;00m filename \u001b[38;5;129;01min\u001b[39;00m \u001b[43mos\u001b[49m\u001b[38;5;241;43m.\u001b[39;49m\u001b[43mlistdir\u001b[49m\u001b[43m(\u001b[49m\u001b[43mdirectory\u001b[49m\u001b[43m)\u001b[49m:\n\u001b[1;32m      6\u001b[0m     \u001b[38;5;28;01mif\u001b[39;00m filename\u001b[38;5;241m.\u001b[39mendswith(\u001b[38;5;124m\"\u001b[39m\u001b[38;5;124m.csv\u001b[39m\u001b[38;5;124m\"\u001b[39m):\n\u001b[1;32m      7\u001b[0m         file_path \u001b[38;5;241m=\u001b[39m os\u001b[38;5;241m.\u001b[39mpath\u001b[38;5;241m.\u001b[39mjoin(directory, filename)\n",
      "\u001b[0;31mFileNotFoundError\u001b[0m: [Errno 2] No such file or directory: '/path/to/data'"
     ]
    }
   ],
   "source": [
    "import os\n",
    "\n",
    "# List all files in a directory\n",
    "directory = \"/path/to/data\"\n",
    "for filename in os.listdir(directory):\n",
    "    if filename.endswith(\".csv\"):\n",
    "        file_path = os.path.join(directory, filename)\n",
    "        print(f\"Processing {file_path}\")\n",
    "        # Process the file\n"
   ]
  },
  {
   "cell_type": "markdown",
   "id": "f6d1e129-4872-46b5-b5e0-c3a576c0cbcd",
   "metadata": {},
   "source": [
    "You can copy this entire block of Markdown text and paste it into a Markdown cell in your Jupyter Notebook. It will render nicely with headings, code blocks, and formatted text."
   ]
  },
  {
   "cell_type": "code",
   "execution_count": null,
   "id": "74d698ce-6cff-4f0c-953e-bf74b498a819",
   "metadata": {},
   "outputs": [],
   "source": []
  }
 ],
 "metadata": {
  "kernelspec": {
   "display_name": "Python 3 (ipykernel)",
   "language": "python",
   "name": "python3"
  },
  "language_info": {
   "codemirror_mode": {
    "name": "ipython",
    "version": 3
   },
   "file_extension": ".py",
   "mimetype": "text/x-python",
   "name": "python",
   "nbconvert_exporter": "python",
   "pygments_lexer": "ipython3",
   "version": "3.13.0"
  }
 },
 "nbformat": 4,
 "nbformat_minor": 5
}
